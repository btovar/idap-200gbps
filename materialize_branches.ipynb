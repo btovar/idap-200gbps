{
 "cells": [
  {
   "cell_type": "code",
   "execution_count": null,
   "id": "a61be24e-1347-46cd-b564-e538fcb8c852",
   "metadata": {
    "tags": []
   },
   "outputs": [],
   "source": [
    "! xrdcp -f root://xrootd-local.unl.edu//store/user/IDAP/zstd_files.json zstd_files.json"
   ]
  },
  {
   "cell_type": "code",
   "execution_count": null,
   "id": "180f4d32-e5c4-42f9-84e8-430034493a55",
   "metadata": {
    "tags": []
   },
   "outputs": [],
   "source": [
    "from pathlib import Path\n",
    "\n",
    "import awkward as ak\n",
    "import dask\n",
    "import dask_awkward as dak\n",
    "import hist.dask\n",
    "import coffea\n",
    "import numpy as np\n",
    "import uproot\n",
    "from dask.distributed import Client\n",
    "\n",
    "from coffea.nanoevents import NanoEventsFactory, NanoAODSchema\n",
    "from coffea.analysis_tools import PackedSelection\n",
    "from coffea import dataset_tools\n",
    "\n",
    "import time\n",
    "import warnings\n",
    "\n",
    "# import utils\n",
    "# utils.plotting.set_style()\n",
    "\n",
    "warnings.filterwarnings(\"ignore\")\n",
    "NanoAODSchema.warn_missing_crossrefs = False # silences warnings about branches we will not use here\n",
    "\n",
    "# local: single thread, single worker\n",
    "from dask.distributed import LocalCluster, Client, progress\n",
    "# cluster = LocalCluster(n_workers=1, processes=False, threads_per_worker=1)\n",
    "# client = Client(cluster)\n",
    "\n",
    "# for coffea-casa\n",
    "client = Client(\"tls://localhost:8786\")\n",
    "\n",
    "print(f\"awkward: {ak.__version__}\")\n",
    "print(f\"dask-awkward: {dak.__version__}\")\n",
    "print(f\"uproot: {uproot.__version__}\")\n",
    "print(f\"hist: {hist.__version__}\")\n",
    "print(f\"coffea: {coffea.__version__}\")"
   ]
  },
  {
   "cell_type": "code",
   "execution_count": null,
   "id": "0a38efe4-8024-422c-ba42-12bd3a3b44cd",
   "metadata": {
    "tags": []
   },
   "outputs": [],
   "source": [
    "def task(events):\n",
    "    # track number of events\n",
    "    num_events = ak.num(events, axis=0)\n",
    "    \n",
    "    # hit all the other branches, just derive integers from them that will be aggregated to avoid memory issues\n",
    "    _counter = 0\n",
    "    _counter += ak.count_nonzero(events.GenPart.pt)\n",
    "    _counter += ak.count_nonzero(events.GenPart.eta)\n",
    "    _counter += ak.count_nonzero(events.GenPart.phi)\n",
    "    _counter += ak.count_nonzero(events.CorrT1METJet.phi)\n",
    "    _counter += ak.count_nonzero(events.GenJet.pt)\n",
    "    _counter += ak.count_nonzero(events.CorrT1METJet.eta)\n",
    "    _counter += ak.count_nonzero(events.SoftActivityJet.pt)\n",
    "    _counter += ak.count_nonzero(events.Jet.eta)\n",
    "    _counter += ak.count_nonzero(events.Jet.phi)\n",
    "    _counter += ak.count_nonzero(events.SoftActivityJet.eta)\n",
    "    _counter += ak.count_nonzero(events.SoftActivityJet.phi)\n",
    "    _counter += ak.count_nonzero(events.LHEPart.eta)\n",
    "    _counter += ak.count_nonzero(events.LHEPart.phi)\n",
    "    _counter += ak.count_nonzero(events.CorrT1METJet.rawPt)\n",
    "    _counter += ak.count_nonzero(events.Jet.btagDeepFlavB)\n",
    "    _counter += ak.count_nonzero(events.GenJet.eta)\n",
    "    _counter += ak.count_nonzero(events.GenPart.mass)\n",
    "    _counter += ak.count_nonzero(events.GenJet.phi)\n",
    "    _counter += ak.count_nonzero(events.Jet.puIdDisc)\n",
    "    _counter += ak.count_nonzero(events.CorrT1METJet.muonSubtrFactor)\n",
    "    _counter += ak.count_nonzero(events.Jet.btagDeepFlavCvL)\n",
    "    _counter += ak.count_nonzero(events.LHEPart.mass)\n",
    "    _counter += ak.count_nonzero(events.LHEPart.pt)\n",
    "    _counter += ak.count_nonzero(events.Jet.btagDeepFlavQG)\n",
    "    _counter += ak.count_nonzero(events.Jet.mass)\n",
    "    _counter += ak.count_nonzero(events.Jet.pt)\n",
    "    _counter += ak.count_nonzero(events.GenPart.pdgId)\n",
    "    _counter += ak.count_nonzero(events.Jet.btagDeepFlavCvB)\n",
    "    _counter += ak.count_nonzero(events.Jet.cRegCorr)\n",
    "    _counter += ak.count_nonzero(events.LHEPart.incomingpz)\n",
    "\n",
    "    return {\"nevts\": num_events, \"_counter\": _counter}"
   ]
  },
  {
   "cell_type": "markdown",
   "id": "f7f24e12-3fd8-481c-8318-7f9277f72c50",
   "metadata": {},
   "source": [
    "just run over a local DY file here as an example"
   ]
  },
  {
   "cell_type": "code",
   "execution_count": null,
   "id": "684f1240-a754-4dd1-b861-1bfac65ec288",
   "metadata": {
    "tags": []
   },
   "outputs": [],
   "source": [
    "# fileset = {\"DY\": {\"files\": {\"0263846E-B57D-7E48-A80F-458F8445E6C6.root\": \"Events\"}}}\n",
    "# fileset\n",
    "import json\n",
    "fname = \"zstd_files.json\"\n",
    "fileset = {}\n",
    "with open(fname,'r') as fp:\n",
    "    for i,(dataset_name,file_list) in enumerate(json.load(fp).items()):\n",
    "        if i != 0:\n",
    "            continue\n",
    "        fileset[dataset_name] = {\"files\": {}}\n",
    "        for j,dataset_fpath in enumerate(file_list):\n",
    "            if j != 1:\n",
    "                continue\n",
    "            # xrd_fpath = f\"root://xrootd-local.unl.edu/{dataset_fpath}\"\n",
    "            xrd_fpath = f\"root://xcache/{dataset_fpath}\"\n",
    "            # fileset[dataset_name][\"files\"][xrd_fpath] = {\"object_path\": \"Events\"}\n",
    "            print(f\"! xrdcp -f {xrd_fpath} /dev/null\")\n",
    "            fileset[dataset_name][\"files\"][xrd_fpath] = \"Events\"\n",
    "            break\n",
    "        break\n",
    "fileset"
   ]
  },
  {
   "cell_type": "code",
   "execution_count": null,
   "id": "ed1ecc41-0a72-44ec-a8b8-654286a02196",
   "metadata": {
    "tags": []
   },
   "outputs": [],
   "source": [
    "%%time\n",
    "# pre-process\n",
    "samples, _ = dataset_tools.preprocess(fileset, step_size=500_000,uproot_options={\"allow_read_errors_with_report\": True})"
   ]
  },
  {
   "cell_type": "code",
   "execution_count": null,
   "id": "15835a57-1182-4efb-8306-07f36af7a5b2",
   "metadata": {
    "tags": []
   },
   "outputs": [],
   "source": [
    "%%time\n",
    "# create the task graph\n",
    "tasks = dataset_tools.apply_to_fileset(task, samples, uproot_options={\"allow_read_errors_with_report\": True})"
   ]
  },
  {
   "cell_type": "markdown",
   "id": "e1953d6d",
   "metadata": {},
   "source": [
    "execute task graph"
   ]
  },
  {
   "cell_type": "code",
   "execution_count": null,
   "id": "6b6dfb17-6806-46c8-aa59-cd475e40cf64",
   "metadata": {
    "tags": []
   },
   "outputs": [],
   "source": [
    "%%time\n",
    "# execute\n",
    "t0 = time.perf_counter()\n",
    "((out, report),) = dask.compute(tasks)  # feels strange that this is a tuple-of-tuple\n",
    "t1 = time.perf_counter()\n",
    "\n",
    "print(f\"total time spent in uproot reading data: {ak.sum([v['duration'] for v in report.values()]):.2f} s\")\n",
    "print(f\"wall time: {t1-t0:.2f}s\")"
   ]
  },
  {
   "cell_type": "code",
   "execution_count": null,
   "id": "cd336cbb-22a1-45f8-9f85-e18326065c23",
   "metadata": {
    "tags": []
   },
   "outputs": [],
   "source": [
    "out"
   ]
  },
  {
   "cell_type": "code",
   "execution_count": null,
   "id": "07f42084-1139-48e6-95c3-b7f9217033a8",
   "metadata": {},
   "outputs": [],
   "source": [
    "event_rate = out[\"DY\"][\"nevts\"] / (t1-t0)\n",
    "print(f\"event rate: {event_rate / 1_000:.2f} kHz\")"
   ]
  }
 ],
 "metadata": {
  "jupytext": {
   "notebook_metadata_filter": "all,-jupytext.text_representation.jupytext_version"
  },
  "kernelspec": {
   "display_name": "Python 3 (ipykernel)",
   "language": "python",
   "name": "python3"
  },
  "language_info": {
   "codemirror_mode": {
    "name": "ipython",
    "version": 3
   },
   "file_extension": ".py",
   "mimetype": "text/x-python",
   "name": "python",
   "nbconvert_exporter": "python",
   "pygments_lexer": "ipython3",
   "version": "3.10.12"
  }
 },
 "nbformat": 4,
 "nbformat_minor": 5
}
